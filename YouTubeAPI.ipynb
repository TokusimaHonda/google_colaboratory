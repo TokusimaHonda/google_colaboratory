{
  "nbformat": 4,
  "nbformat_minor": 0,
  "metadata": {
    "colab": {
      "name": "YouTubeAPI.ipynb",
      "provenance": [],
      "authorship_tag": "ABX9TyMc9fWxUn1NQRMxAiMTovZs"
    },
    "kernelspec": {
      "name": "python3",
      "display_name": "Python 3"
    }
  },
  "cells": [
    {
      "cell_type": "code",
      "metadata": {
        "colab": {
          "base_uri": "https://localhost:8080/"
        },
        "id": "K5OnOLCePG0d",
        "outputId": "8b6d5c23-3a72-4d9c-c6a4-6a67d5dafcbb"
      },
      "source": [
        "## PythonでAPIから情報を取得するためのライブラリを取得\n",
        "!pip install google-api-python-client"
      ],
      "execution_count": 1,
      "outputs": [
        {
          "output_type": "stream",
          "text": [
            "Requirement already satisfied: google-api-python-client in /usr/local/lib/python3.6/dist-packages (1.7.12)\n",
            "Requirement already satisfied: six<2dev,>=1.6.1 in /usr/local/lib/python3.6/dist-packages (from google-api-python-client) (1.15.0)\n",
            "Requirement already satisfied: httplib2<1dev,>=0.17.0 in /usr/local/lib/python3.6/dist-packages (from google-api-python-client) (0.17.4)\n",
            "Requirement already satisfied: uritemplate<4dev,>=3.0.0 in /usr/local/lib/python3.6/dist-packages (from google-api-python-client) (3.0.1)\n",
            "Requirement already satisfied: google-auth-httplib2>=0.0.3 in /usr/local/lib/python3.6/dist-packages (from google-api-python-client) (0.0.4)\n",
            "Requirement already satisfied: google-auth>=1.4.1 in /usr/local/lib/python3.6/dist-packages (from google-api-python-client) (1.17.2)\n",
            "Requirement already satisfied: cachetools<5.0,>=2.0.0 in /usr/local/lib/python3.6/dist-packages (from google-auth>=1.4.1->google-api-python-client) (4.1.1)\n",
            "Requirement already satisfied: pyasn1-modules>=0.2.1 in /usr/local/lib/python3.6/dist-packages (from google-auth>=1.4.1->google-api-python-client) (0.2.8)\n",
            "Requirement already satisfied: rsa<5,>=3.1.4; python_version >= \"3\" in /usr/local/lib/python3.6/dist-packages (from google-auth>=1.4.1->google-api-python-client) (4.6)\n",
            "Requirement already satisfied: setuptools>=40.3.0 in /usr/local/lib/python3.6/dist-packages (from google-auth>=1.4.1->google-api-python-client) (50.3.2)\n",
            "Requirement already satisfied: pyasn1<0.5.0,>=0.4.6 in /usr/local/lib/python3.6/dist-packages (from pyasn1-modules>=0.2.1->google-auth>=1.4.1->google-api-python-client) (0.4.8)\n"
          ],
          "name": "stdout"
        }
      ]
    },
    {
      "cell_type": "code",
      "metadata": {
        "id": "D6IoW4VEPL72"
      },
      "source": [
        "from apiclient.discovery import build\n",
        "\n",
        "API_KEY = 'your api'\n",
        "SERVICE_NAME = 'youtube'\n",
        "API_VERSION = 'v3'"
      ],
      "execution_count": 54,
      "outputs": []
    },
    {
      "cell_type": "markdown",
      "metadata": {
        "id": "hVr1TxwSTMQ-"
      },
      "source": [
        "## YouTubeで動画を検索して一覧を返す関数"
      ]
    },
    {
      "cell_type": "code",
      "metadata": {
        "id": "BwPnaSc1PP8s"
      },
      "source": [
        "def youtube_search_list(search_word):\n",
        "  youtube = build(SERVICE_NAME, API_VERSION, developerKey=API_KEY)\n",
        "  search_response = youtube.search().list(\n",
        "                                    part='snippet',\n",
        "                                    #検索したい文字列を指定\n",
        "                                    q=search_word,\n",
        "                                    #視聴回数が多い順に取得\n",
        "                                    order='viewCount',\n",
        "                                    type='video',\n",
        "                                    ).execute()\n",
        "  return search_response['items']\n"
      ],
      "execution_count": 73,
      "outputs": []
    },
    {
      "cell_type": "markdown",
      "metadata": {
        "id": "_wbrtnomdYUZ"
      },
      "source": [
        "## チャンネルの詳細を取得する関数"
      ]
    },
    {
      "cell_type": "code",
      "metadata": {
        "id": "36UZLZwmQ-ym"
      },
      "source": [
        "def youtube_channel_detail(channel_id):\n",
        "    youtube = build(SERVICE_NAME, API_VERSION, developerKey=API_KEY)\n",
        "    search_response = youtube.channels().list(\n",
        "                                    part='snippet,statistics'\n",
        "                                    ,channelId=channel_id\n",
        "                                    ,).execute()\n",
        "    return search_response['items'][0]"
      ],
      "execution_count": 117,
      "outputs": []
    },
    {
      "cell_type": "markdown",
      "metadata": {
        "id": "jLZb8PXwmUEN"
      },
      "source": [
        "## チャンネル内の動画を取得"
      ]
    },
    {
      "cell_type": "code",
      "metadata": {
        "id": "p8-F12bhj5ks"
      },
      "source": [
        "def youtube_channel_video_list(channel_id):\n",
        "  youtube = build(SERVICE_NAME, API_VERSION, developerKey=API_KEY)\n",
        "  search_response = youtube.search().list(\n",
        "                                    part='snippet'\n",
        "                                    ,channelId = channel_id\n",
        "                                    ,maxResults = 20000\n",
        "                                    ,order = \"date\", #日付順にソート\n",
        "                                    ).execute()\n",
        "  return search_response['items']\n"
      ],
      "execution_count": 132,
      "outputs": []
    },
    {
      "cell_type": "markdown",
      "metadata": {
        "id": "oR682tkVdeEg"
      },
      "source": [
        "## 動画の詳細を取得する関数"
      ]
    },
    {
      "cell_type": "code",
      "metadata": {
        "id": "6JWWj-R7diFo"
      },
      "source": [
        "def youtube_video_detail(video_id):\n",
        "    youtube = build(SERVICE_NAME, API_VERSION, developerKey=API_KEY)\n",
        "    search_response = youtube.videos().list(part = 'statistics', id = video_id).execute()\n",
        "    return search_response['items'][0]"
      ],
      "execution_count": 101,
      "outputs": []
    },
    {
      "cell_type": "code",
      "metadata": {
        "colab": {
          "base_uri": "https://localhost:8080/"
        },
        "id": "kK8jnzZeSsyI",
        "outputId": "9661841c-2a0c-4f0a-b5aa-e853bb157405"
      },
      "source": [
        "\n",
        "#チャンネル情報を取得\n",
        "channel_id='UCy5YRlHRDW3y-N5aIzABo9Q'\n",
        "dic_channel_detail=youtube_channel_detail(channel_id)\n",
        "print(dic_channel_detail)\n",
        "#チャンネル名\n",
        "print(dic_channel_detail['snippet']['title'])\n",
        "#チャンネル登録者数\n",
        "print(dic_channel_detail['statistics']['subscriberCount'])\n",
        "#チャンネル内の動画を取得\n",
        "list_channel_video = youtube_channel_video_list(channel_id)\n",
        "for channel_video in list_channel_video:\n",
        "  print(channel_video)\n",
        "  \n",
        "  \n",
        "  \n",
        "  "
      ],
      "execution_count": 133,
      "outputs": [
        {
          "output_type": "stream",
          "text": [
            "{'kind': 'youtube#channel', 'etag': 'XM4gHTAjVT1BAEKX1XSjTdZztQY', 'id': 'UCy5YRlHRDW3y-N5aIzABo9Q', 'snippet': {'title': 'NO GOOD TV', 'description': 'No Good TV Official Youtube', 'customUrl': 'nogoodtvofficial', 'publishedAt': '2020-04-06T12:03:59.759905Z', 'thumbnails': {'default': {'url': 'https://yt3.ggpht.com/ytc/AAUvwnjbsMfuS5xStIx7fhaoDq6DGeYzWSZlmWtLN8ah=s88-c-k-c0x00ffffff-no-rj', 'width': 88, 'height': 88}, 'medium': {'url': 'https://yt3.ggpht.com/ytc/AAUvwnjbsMfuS5xStIx7fhaoDq6DGeYzWSZlmWtLN8ah=s240-c-k-c0x00ffffff-no-rj', 'width': 240, 'height': 240}, 'high': {'url': 'https://yt3.ggpht.com/ytc/AAUvwnjbsMfuS5xStIx7fhaoDq6DGeYzWSZlmWtLN8ah=s800-c-k-c0x00ffffff-no-rj', 'width': 800, 'height': 800}}, 'localized': {'title': 'NO GOOD TV', 'description': 'No Good TV Official Youtube'}, 'country': 'JP'}, 'statistics': {'viewCount': '45814027', 'subscriberCount': '717000', 'hiddenSubscriberCount': False, 'videoCount': '59'}}\n",
            "NO GOOD TV\n",
            "717000\n",
            "{'kind': 'youtube#searchResult', 'etag': 'wWVakpJhfMlzZrCMUIxZXnnt5MU', 'id': {'kind': 'youtube#video', 'videoId': 'e94uh8YFhxY'}, 'snippet': {'publishedAt': '2020-12-07T09:00:12Z', 'channelId': 'UCy5YRlHRDW3y-N5aIzABo9Q', 'title': 'NO GOOD TV - Vol. 23 | RYO NISHIKIDO &amp; JIN AKANISHI', 'description': '［NO GOOD TV - Vol. 23］ RYO NISHIKIDO & JIN AKANISHI ▽耐衝撃・防水ウオッチG-SHOCK・BABY-Gの紹介モデルをチェック ① 定番人気のスクエアモデル。世界の ...', 'thumbnails': {'default': {'url': 'https://i.ytimg.com/vi/e94uh8YFhxY/default.jpg', 'width': 120, 'height': 90}, 'medium': {'url': 'https://i.ytimg.com/vi/e94uh8YFhxY/mqdefault.jpg', 'width': 320, 'height': 180}, 'high': {'url': 'https://i.ytimg.com/vi/e94uh8YFhxY/hqdefault.jpg', 'width': 480, 'height': 360}}, 'channelTitle': 'NO GOOD TV', 'liveBroadcastContent': 'none', 'publishTime': '2020-12-07T09:00:12Z'}}\n",
            "{'kind': 'youtube#searchResult', 'etag': 'IYAu2ZcmjmXUp-_o6dcNebxJwpM', 'id': {'kind': 'youtube#video', 'videoId': 'ZKkbiqXPMns'}, 'snippet': {'publishedAt': '2020-12-04T09:00:09Z', 'channelId': 'UCy5YRlHRDW3y-N5aIzABo9Q', 'title': 'NO GOOD TV - Vol. 22 | RYO NISHIKIDO &amp; JIN AKANISHI', 'description': '［NO GOOD TV - Vol. 22］ RYO NISHIKIDO & JIN AKANISHI ▽トリー バーチ オフィシャルサイトはこちら オンラインでもギフトラッピング対応可能です ...', 'thumbnails': {'default': {'url': 'https://i.ytimg.com/vi/ZKkbiqXPMns/default.jpg', 'width': 120, 'height': 90}, 'medium': {'url': 'https://i.ytimg.com/vi/ZKkbiqXPMns/mqdefault.jpg', 'width': 320, 'height': 180}, 'high': {'url': 'https://i.ytimg.com/vi/ZKkbiqXPMns/hqdefault.jpg', 'width': 480, 'height': 360}}, 'channelTitle': 'NO GOOD TV', 'liveBroadcastContent': 'none', 'publishTime': '2020-12-04T09:00:09Z'}}\n",
            "{'kind': 'youtube#searchResult', 'etag': '6gt82kVut2Gy9rtYuwQFMxdEwYc', 'id': {'kind': 'youtube#video', 'videoId': 'fIXbIWX2WVg'}, 'snippet': {'publishedAt': '2020-11-30T09:00:09Z', 'channelId': 'UCy5YRlHRDW3y-N5aIzABo9Q', 'title': 'NO GOOD TV - 図工の時間 Vol.4  ブラジャーをプロデュース RAVIJOUR #2  | RYO NISHIKIDO &amp; JIN AKANISHI', 'description': 'NO GOOD TV - 図工の時間 Vol.4 ブラジャーをプロデュース RAVIJOUR #2］ RYO NISHIKIDO & JIN AKANISHI N/A × RAVIJOUR(ラヴィジュール) N/Aが下着を ...', 'thumbnails': {'default': {'url': 'https://i.ytimg.com/vi/fIXbIWX2WVg/default.jpg', 'width': 120, 'height': 90}, 'medium': {'url': 'https://i.ytimg.com/vi/fIXbIWX2WVg/mqdefault.jpg', 'width': 320, 'height': 180}, 'high': {'url': 'https://i.ytimg.com/vi/fIXbIWX2WVg/hqdefault.jpg', 'width': 480, 'height': 360}}, 'channelTitle': 'NO GOOD TV', 'liveBroadcastContent': 'none', 'publishTime': '2020-11-30T09:00:09Z'}}\n",
            "{'kind': 'youtube#searchResult', 'etag': 'C0B9mLSpkLh_iTIuHnXCwVDfso8', 'id': {'kind': 'youtube#video', 'videoId': 'm3hgaVhXh3Q'}, 'snippet': {'publishedAt': '2020-11-29T09:00:12Z', 'channelId': 'UCy5YRlHRDW3y-N5aIzABo9Q', 'title': 'NO GOOD TV - 図工の時間 Vol. 3 シューズをプロデュース #2 | RYO NISHIKIDO &amp; JIN AKANISHI', 'description': 'NO GOOD TV - 図工の時間 Vol. 3 シューズをプロデュース #2］ RYO NISHIKIDO & JIN AKANISHI 靴とファッションの通販サイト ロコンドはこちら https://www.locondo.jp ...', 'thumbnails': {'default': {'url': 'https://i.ytimg.com/vi/m3hgaVhXh3Q/default.jpg', 'width': 120, 'height': 90}, 'medium': {'url': 'https://i.ytimg.com/vi/m3hgaVhXh3Q/mqdefault.jpg', 'width': 320, 'height': 180}, 'high': {'url': 'https://i.ytimg.com/vi/m3hgaVhXh3Q/hqdefault.jpg', 'width': 480, 'height': 360}}, 'channelTitle': 'NO GOOD TV', 'liveBroadcastContent': 'none', 'publishTime': '2020-11-29T09:00:12Z'}}\n",
            "{'kind': 'youtube#searchResult', 'etag': 'Hd_bKNb6XPdn8EqxhzX9QoDS3Eg', 'id': {'kind': 'youtube#video', 'videoId': 'SyYsey_7FAY'}, 'snippet': {'publishedAt': '2020-11-26T09:00:12Z', 'channelId': 'UCy5YRlHRDW3y-N5aIzABo9Q', 'title': 'NO GOOD TV - Vol. 21 | RYO NISHIKIDO &amp; JIN AKANISHI', 'description': '［NO GOOD TV - Vol. 21］ RYO NISHIKIDO & JIN AKANISHI ▽スワロフスキー公式サイトはこちら https://bit.ly/33ceAfg ▽ELLE Japon誌面やYoutubeでは紹介しきれ ...', 'thumbnails': {'default': {'url': 'https://i.ytimg.com/vi/SyYsey_7FAY/default.jpg', 'width': 120, 'height': 90}, 'medium': {'url': 'https://i.ytimg.com/vi/SyYsey_7FAY/mqdefault.jpg', 'width': 320, 'height': 180}, 'high': {'url': 'https://i.ytimg.com/vi/SyYsey_7FAY/hqdefault.jpg', 'width': 480, 'height': 360}}, 'channelTitle': 'NO GOOD TV', 'liveBroadcastContent': 'none', 'publishTime': '2020-11-26T09:00:12Z'}}\n",
            "{'kind': 'youtube#searchResult', 'etag': 'ZW8-QJ3MlKnqaT1YsArau1qMJ6Y', 'id': {'kind': 'youtube#video', 'videoId': 'vDgElOg0ERo'}, 'snippet': {'publishedAt': '2020-11-08T09:00:13Z', 'channelId': 'UCy5YRlHRDW3y-N5aIzABo9Q', 'title': 'NO GOOD TV - Vol. 20 | RYO NISHIKIDO &amp; JIN AKANISHI', 'description': '［NO GOOD TV - Vol. 20］ RYO NISHIKIDO & JIN AKANISHI 提供：コミックシーモア ＼投票受付中／ コミックシーモアで開催中の 電子コミック大賞2021   ネクスト ...', 'thumbnails': {'default': {'url': 'https://i.ytimg.com/vi/vDgElOg0ERo/default.jpg', 'width': 120, 'height': 90}, 'medium': {'url': 'https://i.ytimg.com/vi/vDgElOg0ERo/mqdefault.jpg', 'width': 320, 'height': 180}, 'high': {'url': 'https://i.ytimg.com/vi/vDgElOg0ERo/hqdefault.jpg', 'width': 480, 'height': 360}}, 'channelTitle': 'NO GOOD TV', 'liveBroadcastContent': 'none', 'publishTime': '2020-11-08T09:00:13Z'}}\n",
            "{'kind': 'youtube#searchResult', 'etag': '849hbAnr7Mc29u75yGGxl6YYL1o', 'id': {'kind': 'youtube#video', 'videoId': 'MytBlLfQut4'}, 'snippet': {'publishedAt': '2020-10-30T09:00:12Z', 'channelId': 'UCy5YRlHRDW3y-N5aIzABo9Q', 'title': 'NO GOOD TV - 図工の時間 Vol.2  ブラジャーをプロデュース RAVIJOUR #1  | RYO NISHIKIDO &amp; JIN AKANISHI', 'description': 'NO GOOD TV - 図工の時間 Vol.2 ブラジャーをプロデュース RAVIJOUR #1］ RYO NISHIKIDO & JIN AKANISHI N/A × RAVIJOUR(ラヴィジュール) N/Aが下着を ...', 'thumbnails': {'default': {'url': 'https://i.ytimg.com/vi/MytBlLfQut4/default.jpg', 'width': 120, 'height': 90}, 'medium': {'url': 'https://i.ytimg.com/vi/MytBlLfQut4/mqdefault.jpg', 'width': 320, 'height': 180}, 'high': {'url': 'https://i.ytimg.com/vi/MytBlLfQut4/hqdefault.jpg', 'width': 480, 'height': 360}}, 'channelTitle': 'NO GOOD TV', 'liveBroadcastContent': 'none', 'publishTime': '2020-10-30T09:00:12Z'}}\n",
            "{'kind': 'youtube#searchResult', 'etag': '1yKpdMNM04DAMMsBwQ8L2o6QbJE', 'id': {'kind': 'youtube#video', 'videoId': 'c59P3gk6c64'}, 'snippet': {'publishedAt': '2020-10-29T09:30:11Z', 'channelId': 'UCy5YRlHRDW3y-N5aIzABo9Q', 'title': 'NO GOOD TV - 図工の時間 Vol. 1 シューズをプロデュース #1 | RYO NISHIKIDO &amp; JIN AKANISHI', 'description': 'NO GOOD TV - 図工の時間 Vol. 1 シューズをプロデュース #1］ RYO NISHIKIDO & JIN AKANISHI 靴とファッションの通販サイト ロコンドはこちら https://www.locondo.jp ...', 'thumbnails': {'default': {'url': 'https://i.ytimg.com/vi/c59P3gk6c64/default.jpg', 'width': 120, 'height': 90}, 'medium': {'url': 'https://i.ytimg.com/vi/c59P3gk6c64/mqdefault.jpg', 'width': 320, 'height': 180}, 'high': {'url': 'https://i.ytimg.com/vi/c59P3gk6c64/hqdefault.jpg', 'width': 480, 'height': 360}}, 'channelTitle': 'NO GOOD TV', 'liveBroadcastContent': 'none', 'publishTime': '2020-10-29T09:30:11Z'}}\n",
            "{'kind': 'youtube#searchResult', 'etag': '_ECdoKoDiGi8IfXMl12vxXjpym8', 'id': {'kind': 'youtube#video', 'videoId': 'jHSa7SwQNXg'}, 'snippet': {'publishedAt': '2020-10-20T09:00:11Z', 'channelId': 'UCy5YRlHRDW3y-N5aIzABo9Q', 'title': 'NGTV | GAME Vol. 6 - WEREWOLF/人狼', 'description': 'NGTV | GAME Vol. 6 - WEREWOLF/人狼 ］ JIN AKANISHI & TAKERU SATOH & TAKAYUKI YAMADA & ASAMI MIZUKAWA & ATSUSHI TAMURA & SHIORI ...', 'thumbnails': {'default': {'url': 'https://i.ytimg.com/vi/jHSa7SwQNXg/default.jpg', 'width': 120, 'height': 90}, 'medium': {'url': 'https://i.ytimg.com/vi/jHSa7SwQNXg/mqdefault.jpg', 'width': 320, 'height': 180}, 'high': {'url': 'https://i.ytimg.com/vi/jHSa7SwQNXg/hqdefault.jpg', 'width': 480, 'height': 360}}, 'channelTitle': 'NO GOOD TV', 'liveBroadcastContent': 'none', 'publishTime': '2020-10-20T09:00:11Z'}}\n",
            "{'kind': 'youtube#searchResult', 'etag': 'YTggx3XQ3NN3iPe8v-gBT7qbEP0', 'id': {'kind': 'youtube#video', 'videoId': 'RzTfxTdu7dk'}, 'snippet': {'publishedAt': '2020-10-19T12:30:01Z', 'channelId': 'UCy5YRlHRDW3y-N5aIzABo9Q', 'title': 'NO GOOD TV - Vol. 19 | RYO NISHIKIDO &amp; JIN AKANISHI', 'description': '［NO GOOD TV - Vol. 19］ RYO NISHIKIDO & JIN AKANISHI 荒野行動×戦慄迷宮コラボ決定！10/15シーズン14、絶叫降臨！ 新レジャー「悪夢の境界」が実装！', 'thumbnails': {'default': {'url': 'https://i.ytimg.com/vi/RzTfxTdu7dk/default.jpg', 'width': 120, 'height': 90}, 'medium': {'url': 'https://i.ytimg.com/vi/RzTfxTdu7dk/mqdefault.jpg', 'width': 320, 'height': 180}, 'high': {'url': 'https://i.ytimg.com/vi/RzTfxTdu7dk/hqdefault.jpg', 'width': 480, 'height': 360}}, 'channelTitle': 'NO GOOD TV', 'liveBroadcastContent': 'none', 'publishTime': '2020-10-19T12:30:01Z'}}\n",
            "{'kind': 'youtube#searchResult', 'etag': '_lmxIxxYM7fHAaYIXMt0a6MXuGg', 'id': {'kind': 'youtube#video', 'videoId': 'H9IItydLOb8'}, 'snippet': {'publishedAt': '2020-10-01T09:00:13Z', 'channelId': 'UCy5YRlHRDW3y-N5aIzABo9Q', 'title': 'NO GOOD TV - Vol. 18 | RYO NISHIKIDO &amp; JIN AKANISHI &amp;SHINGO FUJIMORI', 'description': '［NO GOOD TV - Vol. 18］ RYO NISHIKIDO & JIN AKANISHI & SHINGO FUJIMORI 「豆乳イソフラボン」含有でおなじみの、なめらか本舗の「リンクルライン」は、 ...', 'thumbnails': {'default': {'url': 'https://i.ytimg.com/vi/H9IItydLOb8/default.jpg', 'width': 120, 'height': 90}, 'medium': {'url': 'https://i.ytimg.com/vi/H9IItydLOb8/mqdefault.jpg', 'width': 320, 'height': 180}, 'high': {'url': 'https://i.ytimg.com/vi/H9IItydLOb8/hqdefault.jpg', 'width': 480, 'height': 360}}, 'channelTitle': 'NO GOOD TV', 'liveBroadcastContent': 'none', 'publishTime': '2020-10-01T09:00:13Z'}}\n",
            "{'kind': 'youtube#searchResult', 'etag': 'oEodHQBJZLrODAMrtL0b5cAZ7_Q', 'id': {'kind': 'youtube#video', 'videoId': '3Fd5suYBuYo'}, 'snippet': {'publishedAt': '2020-09-30T15:03:53Z', 'channelId': 'UCy5YRlHRDW3y-N5aIzABo9Q', 'title': 'と・も・子･･･（Produced by RYO NISHIKIDO）', 'description': 'と・も・子･･･（Produced by RYO NISHIKIDO） 「N/A」YouTube Channel https://www.youtube.com/c/NAOfficialC... 「RYO NISHIKIDO」YouTube Channel ...', 'thumbnails': {'default': {'url': 'https://i.ytimg.com/vi/3Fd5suYBuYo/default.jpg', 'width': 120, 'height': 90}, 'medium': {'url': 'https://i.ytimg.com/vi/3Fd5suYBuYo/mqdefault.jpg', 'width': 320, 'height': 180}, 'high': {'url': 'https://i.ytimg.com/vi/3Fd5suYBuYo/hqdefault.jpg', 'width': 480, 'height': 360}}, 'channelTitle': 'NO GOOD TV', 'liveBroadcastContent': 'none', 'publishTime': '2020-09-30T15:03:53Z'}}\n",
            "{'kind': 'youtube#searchResult', 'etag': 'pUeUMJ2Yq10eF8doJNFYylmSW_8', 'id': {'kind': 'youtube#video', 'videoId': 'ntWLh8jShZs'}, 'snippet': {'publishedAt': '2020-09-30T09:00:11Z', 'channelId': 'UCy5YRlHRDW3y-N5aIzABo9Q', 'title': '【英会話】AlterNative English Vol.14 レッスン8:お肌のケア Skincare', 'description': '化粧水、乳液、クリーム、美容液の4役が 1本に集約された、いま話題の多機能美容液「アクアモイス」のご紹介です。 □紹介商品「アクアモイス」の商品特長 ・洗顔後に塗る ...', 'thumbnails': {'default': {'url': 'https://i.ytimg.com/vi/ntWLh8jShZs/default.jpg', 'width': 120, 'height': 90}, 'medium': {'url': 'https://i.ytimg.com/vi/ntWLh8jShZs/mqdefault.jpg', 'width': 320, 'height': 180}, 'high': {'url': 'https://i.ytimg.com/vi/ntWLh8jShZs/hqdefault.jpg', 'width': 480, 'height': 360}}, 'channelTitle': 'NO GOOD TV', 'liveBroadcastContent': 'none', 'publishTime': '2020-09-30T09:00:11Z'}}\n",
            "{'kind': 'youtube#searchResult', 'etag': 'X7OBCZ9D_HC0mAWvJZ4V0mjdHtY', 'id': {'kind': 'youtube#video', 'videoId': 'sR609AURgJY'}, 'snippet': {'publishedAt': '2020-09-18T09:00:12Z', 'channelId': 'UCy5YRlHRDW3y-N5aIzABo9Q', 'title': '【英会話】宮川大輔 AlterNative English モルモット #2 Vol.0', 'description': '【英会話】AlterNative English Guinea pig #2 Vol.0 DAISUKE MIYAGAWA & JIN AKANISHI & JIMMY MARTIN & JULIAN CIHI 「N/A」YouTube Channel ...', 'thumbnails': {'default': {'url': 'https://i.ytimg.com/vi/sR609AURgJY/default.jpg', 'width': 120, 'height': 90}, 'medium': {'url': 'https://i.ytimg.com/vi/sR609AURgJY/mqdefault.jpg', 'width': 320, 'height': 180}, 'high': {'url': 'https://i.ytimg.com/vi/sR609AURgJY/hqdefault.jpg', 'width': 480, 'height': 360}}, 'channelTitle': 'NO GOOD TV', 'liveBroadcastContent': 'none', 'publishTime': '2020-09-18T09:00:12Z'}}\n",
            "{'kind': 'youtube#searchResult', 'etag': 'xs8wXODU7oPwMSPBKrPzj9Bg-z8', 'id': {'kind': 'youtube#video', 'videoId': 'lDgVofkibrY'}, 'snippet': {'publishedAt': '2020-09-14T09:00:11Z', 'channelId': 'UCy5YRlHRDW3y-N5aIzABo9Q', 'title': 'NGTV | GAME Vol. 3 - WORDWOLF/ワードウルフ', 'description': 'NGTV | GAME Vol. 3 - WORDWOLF/ワードウルフ ］ RYO NISHIKIDO & JIN AKANISHI & TAKERU SATOH & TAKAYUKI YAMADA & ASAMI MIZUKAWA & SHINGO ...', 'thumbnails': {'default': {'url': 'https://i.ytimg.com/vi/lDgVofkibrY/default.jpg', 'width': 120, 'height': 90}, 'medium': {'url': 'https://i.ytimg.com/vi/lDgVofkibrY/mqdefault.jpg', 'width': 320, 'height': 180}, 'high': {'url': 'https://i.ytimg.com/vi/lDgVofkibrY/hqdefault.jpg', 'width': 480, 'height': 360}}, 'channelTitle': 'NO GOOD TV', 'liveBroadcastContent': 'none', 'publishTime': '2020-09-14T09:00:11Z'}}\n",
            "{'kind': 'youtube#searchResult', 'etag': 'j4RZCSES8lyq8GCgFvgyZcPgLm4', 'id': {'kind': 'youtube#video', 'videoId': 'emQExHavy30'}, 'snippet': {'publishedAt': '2020-09-12T09:00:14Z', 'channelId': 'UCy5YRlHRDW3y-N5aIzABo9Q', 'title': '【英会話】AlterNative English Vol.13 レッスン7:英語でゲーム！ Charades', 'description': '【英会話】AlterNative English Vol.13 レッスン7:英語でゲーム！ Charades RYO NISHIKIDO & JIN AKANISHI & JIMMY MARTIN & JULIAN CIHI 「N/A」YouTube ...', 'thumbnails': {'default': {'url': 'https://i.ytimg.com/vi/emQExHavy30/default.jpg', 'width': 120, 'height': 90}, 'medium': {'url': 'https://i.ytimg.com/vi/emQExHavy30/mqdefault.jpg', 'width': 320, 'height': 180}, 'high': {'url': 'https://i.ytimg.com/vi/emQExHavy30/hqdefault.jpg', 'width': 480, 'height': 360}}, 'channelTitle': 'NO GOOD TV', 'liveBroadcastContent': 'none', 'publishTime': '2020-09-12T09:00:14Z'}}\n",
            "{'kind': 'youtube#searchResult', 'etag': 'lC1vwXFE-TRF8KJ5vMIhuGDVo2s', 'id': {'kind': 'youtube#video', 'videoId': 'lge3ASaHuh4'}, 'snippet': {'publishedAt': '2020-09-08T09:00:11Z', 'channelId': 'UCy5YRlHRDW3y-N5aIzABo9Q', 'title': 'NGTV | GAME Vol. 2 - WORDWOLF/ワードウルフ', 'description': 'NGTV | GAME Vol. 2 - WORDWOLF/ワードウルフ ］ RYO NISHIKIDO & JIN AKANISHI & TAKERU SATOH & TAKAYUKI YAMADA & ASAMI MIZUKAWA & SHINGO ...', 'thumbnails': {'default': {'url': 'https://i.ytimg.com/vi/lge3ASaHuh4/default.jpg', 'width': 120, 'height': 90}, 'medium': {'url': 'https://i.ytimg.com/vi/lge3ASaHuh4/mqdefault.jpg', 'width': 320, 'height': 180}, 'high': {'url': 'https://i.ytimg.com/vi/lge3ASaHuh4/hqdefault.jpg', 'width': 480, 'height': 360}}, 'channelTitle': 'NO GOOD TV', 'liveBroadcastContent': 'none', 'publishTime': '2020-09-08T09:00:11Z'}}\n",
            "{'kind': 'youtube#searchResult', 'etag': 'wfSPjch06hMUReRPeHM7YZtIhpY', 'id': {'kind': 'youtube#video', 'videoId': 'VN5vQ6LLyjw'}, 'snippet': {'publishedAt': '2020-09-07T08:10:22Z', 'channelId': 'UCy5YRlHRDW3y-N5aIzABo9Q', 'title': 'N/A  1st Album「NO GOOD」Trailer Vol.2', 'description': \"N/A 1st Album「NO GOOD」 2020.9.9 Release 01. N/A Introduction 02. Get Loose 03. NO GOOD 04. Not Bad 05. ラップダンス 06. Hey What's Up? 07. Point of ...\", 'thumbnails': {'default': {'url': 'https://i.ytimg.com/vi/VN5vQ6LLyjw/default.jpg', 'width': 120, 'height': 90}, 'medium': {'url': 'https://i.ytimg.com/vi/VN5vQ6LLyjw/mqdefault.jpg', 'width': 320, 'height': 180}, 'high': {'url': 'https://i.ytimg.com/vi/VN5vQ6LLyjw/hqdefault.jpg', 'width': 480, 'height': 360}}, 'channelTitle': 'NO GOOD TV', 'liveBroadcastContent': 'none', 'publishTime': '2020-09-07T08:10:22Z'}}\n",
            "{'kind': 'youtube#searchResult', 'etag': '3kyS1P7YjBb2WR4LZHUo_x1HZTg', 'id': {'kind': 'youtube#video', 'videoId': 'n7vb5sQ06Ag'}, 'snippet': {'publishedAt': '2020-09-02T09:57:20Z', 'channelId': 'UCy5YRlHRDW3y-N5aIzABo9Q', 'title': 'N/A  1st Album「NO GOOD」Trailer Vol.1', 'description': \"N/A 1st Album「NO GOOD」 2020.9.9 Release 01. N/A Introduction 02. Get Loose 03. NO GOOD 04. Not Bad 05. ラップダンス 06. Hey What's Up? 07. Point of ...\", 'thumbnails': {'default': {'url': 'https://i.ytimg.com/vi/n7vb5sQ06Ag/default.jpg', 'width': 120, 'height': 90}, 'medium': {'url': 'https://i.ytimg.com/vi/n7vb5sQ06Ag/mqdefault.jpg', 'width': 320, 'height': 180}, 'high': {'url': 'https://i.ytimg.com/vi/n7vb5sQ06Ag/hqdefault.jpg', 'width': 480, 'height': 360}}, 'channelTitle': 'NO GOOD TV', 'liveBroadcastContent': 'none', 'publishTime': '2020-09-02T09:57:20Z'}}\n",
            "{'kind': 'youtube#searchResult', 'etag': '0F5FCAxifSaBpoDOUN6Mj6yEMVM', 'id': {'kind': 'youtube#video', 'videoId': 'zo7GS3FD0zw'}, 'snippet': {'publishedAt': '2020-08-31T09:00:15Z', 'channelId': 'UCy5YRlHRDW3y-N5aIzABo9Q', 'title': 'NO GOOD TV - Vol. 17 | RYO NISHIKIDO &amp; JIN AKANISHI', 'description': '［NO GOOD TV - Vol. 17］ RYO NISHIKIDO & JIN AKANISHI Sponsored by Galaxy ▽Galaxy S20|S20+|S20 Ultra 5G の詳細はこちら https://bit.ly/31BB74Y ▽対象 ...', 'thumbnails': {'default': {'url': 'https://i.ytimg.com/vi/zo7GS3FD0zw/default.jpg', 'width': 120, 'height': 90}, 'medium': {'url': 'https://i.ytimg.com/vi/zo7GS3FD0zw/mqdefault.jpg', 'width': 320, 'height': 180}, 'high': {'url': 'https://i.ytimg.com/vi/zo7GS3FD0zw/hqdefault.jpg', 'width': 480, 'height': 360}}, 'channelTitle': 'NO GOOD TV', 'liveBroadcastContent': 'none', 'publishTime': '2020-08-31T09:00:15Z'}}\n",
            "{'kind': 'youtube#searchResult', 'etag': '4HLKHktwi-aYJ5pgQNz7WG7Qn5E', 'id': {'kind': 'youtube#video', 'videoId': 'KLJmJoXE1BI'}, 'snippet': {'publishedAt': '2020-08-26T09:00:32Z', 'channelId': 'UCy5YRlHRDW3y-N5aIzABo9Q', 'title': '【英会話】AlterNative English Vol.12 レッスン6:ネイティブがよく使っているFiller Words, あいづち', 'description': '【英会話】AlterNative English Vol.12 レッスン6:ネイティブがよく使っているFiller Words, あいづち RYO NISHIKIDO & JIN AKANISHI & JIMMY MARTIN & JULIAN CIHI ...', 'thumbnails': {'default': {'url': 'https://i.ytimg.com/vi/KLJmJoXE1BI/default.jpg', 'width': 120, 'height': 90}, 'medium': {'url': 'https://i.ytimg.com/vi/KLJmJoXE1BI/mqdefault.jpg', 'width': 320, 'height': 180}, 'high': {'url': 'https://i.ytimg.com/vi/KLJmJoXE1BI/hqdefault.jpg', 'width': 480, 'height': 360}}, 'channelTitle': 'NO GOOD TV', 'liveBroadcastContent': 'none', 'publishTime': '2020-08-26T09:00:32Z'}}\n",
            "{'kind': 'youtube#searchResult', 'etag': 'zmsk87dTTyPydzjqtVJA8nev13w', 'id': {'kind': 'youtube#video', 'videoId': '0sz92EUB6lo'}, 'snippet': {'publishedAt': '2020-08-22T09:00:10Z', 'channelId': 'UCy5YRlHRDW3y-N5aIzABo9Q', 'title': 'NO GOOD TV - Vol. 16 | RYO NISHIKIDO &amp; JIN AKANISHI', 'description': '3つの香りと仕上がりから選べる新しいUVジェルシリーズ 「アリィーニュアンスチェンジUV ジェル」からLUCENT BREEZEのご紹介です。 □紹介商品［限定］LUCENT ...', 'thumbnails': {'default': {'url': 'https://i.ytimg.com/vi/0sz92EUB6lo/default.jpg', 'width': 120, 'height': 90}, 'medium': {'url': 'https://i.ytimg.com/vi/0sz92EUB6lo/mqdefault.jpg', 'width': 320, 'height': 180}, 'high': {'url': 'https://i.ytimg.com/vi/0sz92EUB6lo/hqdefault.jpg', 'width': 480, 'height': 360}}, 'channelTitle': 'NO GOOD TV', 'liveBroadcastContent': 'none', 'publishTime': '2020-08-22T09:00:10Z'}}\n",
            "{'kind': 'youtube#searchResult', 'etag': 'S8MgeZ5Gx9c5052mCubKZv0PX0E', 'id': {'kind': 'youtube#video', 'videoId': 'CIWAsD0PKNM'}, 'snippet': {'publishedAt': '2020-08-21T01:00:02Z', 'channelId': 'UCy5YRlHRDW3y-N5aIzABo9Q', 'title': 'N/A - NO GOOD (Official Music Video)', 'description': 'N/A 1st ALBUM「NO GOOD」 2020.9.9 RELEASE N/A OFFICIAL STORE www.bit.ly/2Cd9k0g N/A - NO GOOD (Official Music Video) RYO NISHIKIDO & JIN ...', 'thumbnails': {'default': {'url': 'https://i.ytimg.com/vi/CIWAsD0PKNM/default.jpg', 'width': 120, 'height': 90}, 'medium': {'url': 'https://i.ytimg.com/vi/CIWAsD0PKNM/mqdefault.jpg', 'width': 320, 'height': 180}, 'high': {'url': 'https://i.ytimg.com/vi/CIWAsD0PKNM/hqdefault.jpg', 'width': 480, 'height': 360}}, 'channelTitle': 'NO GOOD TV', 'liveBroadcastContent': 'none', 'publishTime': '2020-08-21T01:00:02Z'}}\n",
            "{'kind': 'youtube#searchResult', 'etag': 'D6sO4E1Y-r4VdLA25H3QB3dgzto', 'id': {'kind': 'youtube#video', 'videoId': 'zSPc4pVqW7M'}, 'snippet': {'publishedAt': '2020-08-20T09:00:12Z', 'channelId': 'UCy5YRlHRDW3y-N5aIzABo9Q', 'title': 'NGTV | GAME Vol. 5 - WEREWOLF/人狼', 'description': 'NGTV | GAME Vol. 5 - WEREWOLF/人狼 ］ RYO NISHIKIDO & JIN AKANISHI & TAKERU SATOH & TAKAYUKI YAMADA & ASAMI MIZUKAWA & SHINGO ...', 'thumbnails': {'default': {'url': 'https://i.ytimg.com/vi/zSPc4pVqW7M/default.jpg', 'width': 120, 'height': 90}, 'medium': {'url': 'https://i.ytimg.com/vi/zSPc4pVqW7M/mqdefault.jpg', 'width': 320, 'height': 180}, 'high': {'url': 'https://i.ytimg.com/vi/zSPc4pVqW7M/hqdefault.jpg', 'width': 480, 'height': 360}}, 'channelTitle': 'NO GOOD TV', 'liveBroadcastContent': 'none', 'publishTime': '2020-08-20T09:00:12Z'}}\n",
            "{'kind': 'youtube#searchResult', 'etag': 'Leg1D0-NILoO1M_NeVX4FUzZCpI', 'id': {'kind': 'youtube#video', 'videoId': 'guqjsKHRNoU'}, 'snippet': {'publishedAt': '2020-08-13T09:00:12Z', 'channelId': 'UCy5YRlHRDW3y-N5aIzABo9Q', 'title': 'NGTV | GAME Vol. 4 - WEREWOLF/人狼', 'description': 'NGTV | GAME Vol. 4 - WEREWOLF/人狼 ］ RYO NISHIKIDO & JIN AKANISHI & TAKERU SATOH & TAKAYUKI YAMADA & ASAMI MIZUKAWA & SHINGO ...', 'thumbnails': {'default': {'url': 'https://i.ytimg.com/vi/guqjsKHRNoU/default.jpg', 'width': 120, 'height': 90}, 'medium': {'url': 'https://i.ytimg.com/vi/guqjsKHRNoU/mqdefault.jpg', 'width': 320, 'height': 180}, 'high': {'url': 'https://i.ytimg.com/vi/guqjsKHRNoU/hqdefault.jpg', 'width': 480, 'height': 360}}, 'channelTitle': 'NO GOOD TV', 'liveBroadcastContent': 'none', 'publishTime': '2020-08-13T09:00:12Z'}}\n",
            "{'kind': 'youtube#searchResult', 'etag': 'cbkzBC08T3847Bj9uB7DMjA_h8A', 'id': {'kind': 'youtube#video', 'videoId': 'AU1O507iWuw'}, 'snippet': {'publishedAt': '2020-08-12T10:09:45Z', 'channelId': 'UCy5YRlHRDW3y-N5aIzABo9Q', 'title': '【英会話】AlterNative English Vol.11 レッスン5:ネイティブっぽく英語を話すために必要なD.E.F.って何？', 'description': '【英会話】AlterNative English Vol.11 レッスン5:ネイティブっぽく英語を話すために必要なD.E.F.って何？ RYO NISHIKIDO & JIN AKANISHI & JIMMY MARTIN & JULIAN ...', 'thumbnails': {'default': {'url': 'https://i.ytimg.com/vi/AU1O507iWuw/default.jpg', 'width': 120, 'height': 90}, 'medium': {'url': 'https://i.ytimg.com/vi/AU1O507iWuw/mqdefault.jpg', 'width': 320, 'height': 180}, 'high': {'url': 'https://i.ytimg.com/vi/AU1O507iWuw/hqdefault.jpg', 'width': 480, 'height': 360}}, 'channelTitle': 'NO GOOD TV', 'liveBroadcastContent': 'none', 'publishTime': '2020-08-12T10:09:45Z'}}\n",
            "{'kind': 'youtube#searchResult', 'etag': 'BQrAFD6mf2zXSvc8YSZtLees8hM', 'id': {'kind': 'youtube#video', 'videoId': 'B84s8zgZmbQ'}, 'snippet': {'publishedAt': '2020-08-07T09:00:12Z', 'channelId': 'UCy5YRlHRDW3y-N5aIzABo9Q', 'title': 'NO GOOD TV - Vol. 15 | RYO NISHIKIDO &amp; JIN AKANISHI', 'description': 'メイベリン ニューヨークのブランド目標は、「メイクを通じて一人一人の個性や魅力に自信をもってほしい、自由に表現してほしい」ということ。 ブランドムービーでは、それぞれ ...', 'thumbnails': {'default': {'url': 'https://i.ytimg.com/vi/B84s8zgZmbQ/default.jpg', 'width': 120, 'height': 90}, 'medium': {'url': 'https://i.ytimg.com/vi/B84s8zgZmbQ/mqdefault.jpg', 'width': 320, 'height': 180}, 'high': {'url': 'https://i.ytimg.com/vi/B84s8zgZmbQ/hqdefault.jpg', 'width': 480, 'height': 360}}, 'channelTitle': 'NO GOOD TV', 'liveBroadcastContent': 'none', 'publishTime': '2020-08-07T09:00:12Z'}}\n",
            "{'kind': 'youtube#searchResult', 'etag': 'cDVY9rbkxNTh3A9gdVEE9hbleoc', 'id': {'kind': 'youtube#video', 'videoId': 'uPjzFINqmas'}, 'snippet': {'publishedAt': '2020-08-06T09:00:12Z', 'channelId': 'UCy5YRlHRDW3y-N5aIzABo9Q', 'title': 'NO GOOD TV - Vol. 14 | RYO NISHIKIDO &amp; JIN AKANISHI &amp; TAKAYUKI YAMADA', 'description': 'N/A × LIFTる。期間限定景品公開中 限定景品詳細はこちら⇒ https://lp.liftle.net/blog/?p=1263 動画内で獲得した景品のプレゼントキャンペーンは「LIFTる。」公式Twitterを ...', 'thumbnails': {'default': {'url': 'https://i.ytimg.com/vi/uPjzFINqmas/default.jpg', 'width': 120, 'height': 90}, 'medium': {'url': 'https://i.ytimg.com/vi/uPjzFINqmas/mqdefault.jpg', 'width': 320, 'height': 180}, 'high': {'url': 'https://i.ytimg.com/vi/uPjzFINqmas/hqdefault.jpg', 'width': 480, 'height': 360}}, 'channelTitle': 'NO GOOD TV', 'liveBroadcastContent': 'none', 'publishTime': '2020-08-06T09:00:12Z'}}\n",
            "{'kind': 'youtube#searchResult', 'etag': '6iuidZlLIGmuvlJmdjBEbX7yA7c', 'id': {'kind': 'youtube#video', 'videoId': '5KlCm_wJSyY'}, 'snippet': {'publishedAt': '2020-08-01T09:00:12Z', 'channelId': 'UCy5YRlHRDW3y-N5aIzABo9Q', 'title': '【英会話】AlterNative English Vol.10 レッスン4:英語に慣れる環境づくり', 'description': '【英会話】AlterNative English Vol.10 レッスン4:英語に慣れる環境づくり RYO NISHIKIDO & JIN AKANISHI & JIMMY MARTIN & JULIAN CIHI 「N/A」YouTube Channel ...', 'thumbnails': {'default': {'url': 'https://i.ytimg.com/vi/5KlCm_wJSyY/default.jpg', 'width': 120, 'height': 90}, 'medium': {'url': 'https://i.ytimg.com/vi/5KlCm_wJSyY/mqdefault.jpg', 'width': 320, 'height': 180}, 'high': {'url': 'https://i.ytimg.com/vi/5KlCm_wJSyY/hqdefault.jpg', 'width': 480, 'height': 360}}, 'channelTitle': 'NO GOOD TV', 'liveBroadcastContent': 'none', 'publishTime': '2020-08-01T09:00:12Z'}}\n",
            "{'kind': 'youtube#searchResult', 'etag': 'ChjTIWpHJtB-U9I_XSHbYueUAg8', 'id': {'kind': 'youtube#video', 'videoId': 'Q0w3v1sKouw'}, 'snippet': {'publishedAt': '2020-07-20T09:00:12Z', 'channelId': 'UCy5YRlHRDW3y-N5aIzABo9Q', 'title': '【英会話】AlterNative English Vol.9 DMM英会話コラボレッスン！', 'description': '【英会話】AlterNative English Vol.9 DMM英会話コラボレッスン！ RYO NISHIKIDO & JIN AKANISHI & JIMMY MARTIN & JULIAN CIHI 「N/A」YouTube Channel ...', 'thumbnails': {'default': {'url': 'https://i.ytimg.com/vi/Q0w3v1sKouw/default.jpg', 'width': 120, 'height': 90}, 'medium': {'url': 'https://i.ytimg.com/vi/Q0w3v1sKouw/mqdefault.jpg', 'width': 320, 'height': 180}, 'high': {'url': 'https://i.ytimg.com/vi/Q0w3v1sKouw/hqdefault.jpg', 'width': 480, 'height': 360}}, 'channelTitle': 'NO GOOD TV', 'liveBroadcastContent': 'none', 'publishTime': '2020-07-20T09:00:12Z'}}\n",
            "{'kind': 'youtube#searchResult', 'etag': '31XlOJ-MGI-K0bUWPZNQQsJ_YiU', 'id': {'kind': 'youtube#video', 'videoId': 'AmZXIa09cgE'}, 'snippet': {'publishedAt': '2020-07-19T09:00:12Z', 'channelId': 'UCy5YRlHRDW3y-N5aIzABo9Q', 'title': 'NGTV | GAME Vol. 1 - WORDWOLF/ワードウルフ | RYO NISHIKIDO &amp; JIN AKANISHI &amp; TAKERU SATOH &amp; TAKAYUKI YAMADA', 'description': '［NGTV | GAME Vol. 1 - WORDWOLF ］ RYO NISHIKIDO & JIN AKANISHI & TAKERU SATOH & TAKAYUKI YAMADA 「N/A」YouTube Channel ...', 'thumbnails': {'default': {'url': 'https://i.ytimg.com/vi/AmZXIa09cgE/default.jpg', 'width': 120, 'height': 90}, 'medium': {'url': 'https://i.ytimg.com/vi/AmZXIa09cgE/mqdefault.jpg', 'width': 320, 'height': 180}, 'high': {'url': 'https://i.ytimg.com/vi/AmZXIa09cgE/hqdefault.jpg', 'width': 480, 'height': 360}}, 'channelTitle': 'NO GOOD TV', 'liveBroadcastContent': 'none', 'publishTime': '2020-07-19T09:00:12Z'}}\n",
            "{'kind': 'youtube#searchResult', 'etag': '30isR1Q-VxlKpCCPLK5RXtG70Cw', 'id': {'kind': 'youtube#video', 'videoId': 'jAI04AQMTzQ'}, 'snippet': {'publishedAt': '2020-07-18T09:00:12Z', 'channelId': 'UCy5YRlHRDW3y-N5aIzABo9Q', 'title': '【英会話】AlterNative English Vol.8 レッスン3:英語でゲーム！20 Questions', 'description': '【英会話】AlterNative English Vol.8 レッスン3:英語でゲーム！20 Questions RYO NISHIKIDO & JIN AKANISHI & JIMMY MARTIN & JULIAN CIHI 「N/A」YouTube ...', 'thumbnails': {'default': {'url': 'https://i.ytimg.com/vi/jAI04AQMTzQ/default.jpg', 'width': 120, 'height': 90}, 'medium': {'url': 'https://i.ytimg.com/vi/jAI04AQMTzQ/mqdefault.jpg', 'width': 320, 'height': 180}, 'high': {'url': 'https://i.ytimg.com/vi/jAI04AQMTzQ/hqdefault.jpg', 'width': 480, 'height': 360}}, 'channelTitle': 'NO GOOD TV', 'liveBroadcastContent': 'none', 'publishTime': '2020-07-18T09:00:12Z'}}\n",
            "{'kind': 'youtube#searchResult', 'etag': '_sl97KX7yU_oKkJ4yb1tBbxesZk', 'id': {'kind': 'youtube#video', 'videoId': '-Rlr-K2Ffkc'}, 'snippet': {'publishedAt': '2020-07-13T12:00:12Z', 'channelId': 'UCy5YRlHRDW3y-N5aIzABo9Q', 'title': '【英会話】AlterNative English Vol.7 レッスン2:アメリカvs日本 バー文化の違い', 'description': '【英会話】AlterNative English Vol.7 レッスン2:アメリカvs日本 バー文化の違い RYO NISHIKIDO & JIN AKANISHI & JIMMY MARTIN & JULIAN CIHI 「N/A」YouTube ...', 'thumbnails': {'default': {'url': 'https://i.ytimg.com/vi/-Rlr-K2Ffkc/default.jpg', 'width': 120, 'height': 90}, 'medium': {'url': 'https://i.ytimg.com/vi/-Rlr-K2Ffkc/mqdefault.jpg', 'width': 320, 'height': 180}, 'high': {'url': 'https://i.ytimg.com/vi/-Rlr-K2Ffkc/hqdefault.jpg', 'width': 480, 'height': 360}}, 'channelTitle': 'NO GOOD TV', 'liveBroadcastContent': 'none', 'publishTime': '2020-07-13T12:00:12Z'}}\n",
            "{'kind': 'youtube#searchResult', 'etag': 'M2R4CYzinTrH-ObOz_rJf7c627Y', 'id': {'kind': 'youtube#video', 'videoId': 'dXbFP_TjgB0'}, 'snippet': {'publishedAt': '2020-07-06T11:00:13Z', 'channelId': 'UCy5YRlHRDW3y-N5aIzABo9Q', 'title': '【英会話】AlterNative English Vol.6 レッスン1: 会話練習「英語でお酒を注文する方法」', 'description': '【英会話】AlterNative English Vol.6 レッスン1: 会話練習「英語でお酒を注文する方法」 RYO NISHIKIDO & JIN AKANISHI & JIMMY MARTIN & JULIAN CIHI ...', 'thumbnails': {'default': {'url': 'https://i.ytimg.com/vi/dXbFP_TjgB0/default.jpg', 'width': 120, 'height': 90}, 'medium': {'url': 'https://i.ytimg.com/vi/dXbFP_TjgB0/mqdefault.jpg', 'width': 320, 'height': 180}, 'high': {'url': 'https://i.ytimg.com/vi/dXbFP_TjgB0/hqdefault.jpg', 'width': 480, 'height': 360}}, 'channelTitle': 'NO GOOD TV', 'liveBroadcastContent': 'none', 'publishTime': '2020-07-06T11:00:13Z'}}\n",
            "{'kind': 'youtube#searchResult', 'etag': 'j9wQ3P-u2AHPYUctkLblk-uAKXY', 'id': {'kind': 'youtube#video', 'videoId': 'w_0863i5t7k'}, 'snippet': {'publishedAt': '2020-07-02T09:00:08Z', 'channelId': 'UCy5YRlHRDW3y-N5aIzABo9Q', 'title': 'NO GOOD TV - Vol. 13 | RYO NISHIKIDO &amp; JIN AKANISHIHI', 'description': 'ダウンロードはこちら https://knivesout.onelink.me/fi9O/15ed1af9 ▽荒野行動公式HP ＵＲＬ：https://www.knivesout.jp/ ...', 'thumbnails': {'default': {'url': 'https://i.ytimg.com/vi/w_0863i5t7k/default.jpg', 'width': 120, 'height': 90}, 'medium': {'url': 'https://i.ytimg.com/vi/w_0863i5t7k/mqdefault.jpg', 'width': 320, 'height': 180}, 'high': {'url': 'https://i.ytimg.com/vi/w_0863i5t7k/hqdefault.jpg', 'width': 480, 'height': 360}}, 'channelTitle': 'NO GOOD TV', 'liveBroadcastContent': 'none', 'publishTime': '2020-07-02T09:00:08Z'}}\n",
            "{'kind': 'youtube#searchResult', 'etag': 'wghMjw46xAgbDqre4R76qUq-8cM', 'id': {'kind': 'youtube#video', 'videoId': 'NnfdZA30AKs'}, 'snippet': {'publishedAt': '2020-06-29T09:00:06Z', 'channelId': 'UCy5YRlHRDW3y-N5aIzABo9Q', 'title': 'NGTV | GAME Vol. 3 - WEREWOLF/人狼 | RYO NISHIKIDO &amp; JIN AKANISHI &amp; TAKERU SATOH &amp; TAKAYUKI YAMADA', 'description': 'NGTV | GAME Vol. 3 - WEREWOLF/人狼 ］ RYO NISHIKIDO & JIN AKANISHI & TAKERU SATOH & TAKAYUKI YAMADA 「N/A」YouTube Channel ...', 'thumbnails': {'default': {'url': 'https://i.ytimg.com/vi/NnfdZA30AKs/default.jpg', 'width': 120, 'height': 90}, 'medium': {'url': 'https://i.ytimg.com/vi/NnfdZA30AKs/mqdefault.jpg', 'width': 320, 'height': 180}, 'high': {'url': 'https://i.ytimg.com/vi/NnfdZA30AKs/hqdefault.jpg', 'width': 480, 'height': 360}}, 'channelTitle': 'NO GOOD TV', 'liveBroadcastContent': 'none', 'publishTime': '2020-06-29T09:00:06Z'}}\n",
            "{'kind': 'youtube#searchResult', 'etag': 'lIWjjWAZ7blZD7NGNYShH8rzSiU', 'id': {'kind': 'youtube#video', 'videoId': 'aAypX4vvSEs'}, 'snippet': {'publishedAt': '2020-06-28T07:00:26Z', 'channelId': 'UCy5YRlHRDW3y-N5aIzABo9Q', 'title': '【英会話】AlterNative English Vol.5 英語力テスト！特別編~ Placement Test ‘Attitude’', 'description': \"【英会話】AlterNative English Vol.5 英語力テスト！特別編~ Placement Test 'Attitude' RYO NISHIKIDO & JIN AKANISHI & JIMMY MARTIN & JULIAN CIHI ...\", 'thumbnails': {'default': {'url': 'https://i.ytimg.com/vi/aAypX4vvSEs/default.jpg', 'width': 120, 'height': 90}, 'medium': {'url': 'https://i.ytimg.com/vi/aAypX4vvSEs/mqdefault.jpg', 'width': 320, 'height': 180}, 'high': {'url': 'https://i.ytimg.com/vi/aAypX4vvSEs/hqdefault.jpg', 'width': 480, 'height': 360}}, 'channelTitle': 'NO GOOD TV', 'liveBroadcastContent': 'none', 'publishTime': '2020-06-28T07:00:26Z'}}\n",
            "{'kind': 'youtube#searchResult', 'etag': 'Gz1XXSO_wZjh3ntGtHlPLELbwY0', 'id': {'kind': 'youtube#video', 'videoId': '-v4pGZ07QYA'}, 'snippet': {'publishedAt': '2020-06-25T09:15:59Z', 'channelId': 'UCy5YRlHRDW3y-N5aIzABo9Q', 'title': '【英会話】AlterNative English Vol.4 英語力テスト！スピーキング~ Placement Test ‘Speaking’', 'description': \"【英会話】AlterNative English Vol.4 英語力テスト！スピーキング~ Placement Test 'Speaking' RYO NISHIKIDO & JIN AKANISHI & JIMMY MARTIN & JULIAN CIHI ...\", 'thumbnails': {'default': {'url': 'https://i.ytimg.com/vi/-v4pGZ07QYA/default.jpg', 'width': 120, 'height': 90}, 'medium': {'url': 'https://i.ytimg.com/vi/-v4pGZ07QYA/mqdefault.jpg', 'width': 320, 'height': 180}, 'high': {'url': 'https://i.ytimg.com/vi/-v4pGZ07QYA/hqdefault.jpg', 'width': 480, 'height': 360}}, 'channelTitle': 'NO GOOD TV', 'liveBroadcastContent': 'none', 'publishTime': '2020-06-25T09:15:59Z'}}\n",
            "{'kind': 'youtube#searchResult', 'etag': 'TMq2Ff5JRpmOdMugUEVnxqWaNKs', 'id': {'kind': 'youtube#video', 'videoId': 'ea45slxxn7I'}, 'snippet': {'publishedAt': '2020-06-23T09:06:06Z', 'channelId': 'UCy5YRlHRDW3y-N5aIzABo9Q', 'title': 'NGTV | GAME Vol. 2 - WEREWOLF/人狼 | RYO NISHIKIDO &amp; JIN AKANISHI &amp; TAKERU SATOH &amp; TAKAYUKI YAMADA', 'description': 'NGTV | GAME Vol. 2 - WEREWOLF/人狼 ］ RYO NISHIKIDO & JIN AKANISHI & TAKERU SATOH & TAKAYUKI YAMADA 「N/A」YouTube Channel ...', 'thumbnails': {'default': {'url': 'https://i.ytimg.com/vi/ea45slxxn7I/default.jpg', 'width': 120, 'height': 90}, 'medium': {'url': 'https://i.ytimg.com/vi/ea45slxxn7I/mqdefault.jpg', 'width': 320, 'height': 180}, 'high': {'url': 'https://i.ytimg.com/vi/ea45slxxn7I/hqdefault.jpg', 'width': 480, 'height': 360}}, 'channelTitle': 'NO GOOD TV', 'liveBroadcastContent': 'none', 'publishTime': '2020-06-23T09:06:06Z'}}\n",
            "{'kind': 'youtube#searchResult', 'etag': 'EkplPyVm9dQkYeoJVe5a8jWALJ8', 'id': {'kind': 'youtube#video', 'videoId': 'erAiHBRE624'}, 'snippet': {'publishedAt': '2020-06-17T09:00:07Z', 'channelId': 'UCy5YRlHRDW3y-N5aIzABo9Q', 'title': 'NO GOOD TV - Vol. 12 | RYO NISHIKIDO &amp; JIN AKANISHI', 'description': '提供：BIGO LIVE（ビゴライブ） https://bigolive.onelink.me/sG8X/nogoodtv ［NO GOOD TV - Vol. 12］ RYO NISHIKIDO & JIN AKANISHI 「N/A」YouTube Channel ...', 'thumbnails': {'default': {'url': 'https://i.ytimg.com/vi/erAiHBRE624/default.jpg', 'width': 120, 'height': 90}, 'medium': {'url': 'https://i.ytimg.com/vi/erAiHBRE624/mqdefault.jpg', 'width': 320, 'height': 180}, 'high': {'url': 'https://i.ytimg.com/vi/erAiHBRE624/hqdefault.jpg', 'width': 480, 'height': 360}}, 'channelTitle': 'NO GOOD TV', 'liveBroadcastContent': 'none', 'publishTime': '2020-06-17T09:00:07Z'}}\n",
            "{'kind': 'youtube#searchResult', 'etag': 'lVbzRqK4ch1fUtgmtX6PFcSd_h8', 'id': {'kind': 'youtube#video', 'videoId': '8aH0uGUc5DE'}, 'snippet': {'publishedAt': '2020-06-13T09:00:09Z', 'channelId': 'UCy5YRlHRDW3y-N5aIzABo9Q', 'title': '【英会話】AlterNative English Vol.3 英語力テスト！ライティング編~ Placement Test ‘Writing’', 'description': \"【英会話】AlterNative English Vol.3 英語力テスト！ライティング編~ Placement Test 'Writing' RYO NISHIKIDO & JIN AKANISHI & JIMMY MARTIN & JULIAN CIHI ...\", 'thumbnails': {'default': {'url': 'https://i.ytimg.com/vi/8aH0uGUc5DE/default.jpg', 'width': 120, 'height': 90}, 'medium': {'url': 'https://i.ytimg.com/vi/8aH0uGUc5DE/mqdefault.jpg', 'width': 320, 'height': 180}, 'high': {'url': 'https://i.ytimg.com/vi/8aH0uGUc5DE/hqdefault.jpg', 'width': 480, 'height': 360}}, 'channelTitle': 'NO GOOD TV', 'liveBroadcastContent': 'none', 'publishTime': '2020-06-13T09:00:09Z'}}\n",
            "{'kind': 'youtube#searchResult', 'etag': '5jNPr0dCsFz9qvlrtKd70RMjnGI', 'id': {'kind': 'youtube#video', 'videoId': 'IDSpljJ0rBk'}, 'snippet': {'publishedAt': '2020-06-11T09:30:07Z', 'channelId': 'UCy5YRlHRDW3y-N5aIzABo9Q', 'title': '【英会話】AlterNative English Vol.2 英語力テスト！リーディング編~ Placement Test ‘Reading’', 'description': \"【英会話】AlterNative English Vol.2 英語力テスト！リーディング編~ Placement Test 'Reading' RYO NISHIKIDO & JIN AKANISHI & JIMMY MARTIN & JULIAN CIHI ...\", 'thumbnails': {'default': {'url': 'https://i.ytimg.com/vi/IDSpljJ0rBk/default.jpg', 'width': 120, 'height': 90}, 'medium': {'url': 'https://i.ytimg.com/vi/IDSpljJ0rBk/mqdefault.jpg', 'width': 320, 'height': 180}, 'high': {'url': 'https://i.ytimg.com/vi/IDSpljJ0rBk/hqdefault.jpg', 'width': 480, 'height': 360}}, 'channelTitle': 'NO GOOD TV', 'liveBroadcastContent': 'none', 'publishTime': '2020-06-11T09:30:07Z'}}\n",
            "{'kind': 'youtube#searchResult', 'etag': 'onCmzPAwhBPZ2osObpgCvwjOXcg', 'id': {'kind': 'youtube#video', 'videoId': 'pL_GtKmy2oQ'}, 'snippet': {'publishedAt': '2020-06-07T04:00:28Z', 'channelId': 'UCy5YRlHRDW3y-N5aIzABo9Q', 'title': '【英会話】AlterNative English Vol.1 英語力テスト！リスニング編~ Placement Test ‘Listening’', 'description': \"【英会話】AlterNative English Vol.1 英語力テスト！リスニング編~ Placement Test 'Listening' RYO NISHIKIDO & JIN AKANISHI & JIMMY MARTIN & JULIAN CIHI ...\", 'thumbnails': {'default': {'url': 'https://i.ytimg.com/vi/pL_GtKmy2oQ/default.jpg', 'width': 120, 'height': 90}, 'medium': {'url': 'https://i.ytimg.com/vi/pL_GtKmy2oQ/mqdefault.jpg', 'width': 320, 'height': 180}, 'high': {'url': 'https://i.ytimg.com/vi/pL_GtKmy2oQ/hqdefault.jpg', 'width': 480, 'height': 360}}, 'channelTitle': 'NO GOOD TV', 'liveBroadcastContent': 'none', 'publishTime': '2020-06-07T04:00:28Z'}}\n",
            "{'kind': 'youtube#searchResult', 'etag': 'wM7vj64VVeXCqOVwkLpTliHmLuk', 'id': {'kind': 'youtube#video', 'videoId': 'wVfELbswQY0'}, 'snippet': {'publishedAt': '2020-06-01T13:20:26Z', 'channelId': 'UCy5YRlHRDW3y-N5aIzABo9Q', 'title': 'NGTV - AlterNative English - Vol. 0.5 | JIN AKANISHI &amp; JIMMY MARTIN &amp; JULIAN CIHI', 'description': '［NGTV - AlterNative English - Vol. 0.5］ JIN AKANISHI & JIMMY MARTIN & JULIAN CIHI 「N/A」YouTube Channel https://www.youtube.com/c/NAOfficialChannel ...', 'thumbnails': {'default': {'url': 'https://i.ytimg.com/vi/wVfELbswQY0/default.jpg', 'width': 120, 'height': 90}, 'medium': {'url': 'https://i.ytimg.com/vi/wVfELbswQY0/mqdefault.jpg', 'width': 320, 'height': 180}, 'high': {'url': 'https://i.ytimg.com/vi/wVfELbswQY0/hqdefault.jpg', 'width': 480, 'height': 360}}, 'channelTitle': 'NO GOOD TV', 'liveBroadcastContent': 'none', 'publishTime': '2020-06-01T13:20:26Z'}}\n",
            "{'kind': 'youtube#searchResult', 'etag': 'qViG1zJ987mghWyobkXMPar38fU', 'id': {'kind': 'youtube#video', 'videoId': '-UgQ04fec1k'}, 'snippet': {'publishedAt': '2020-05-31T08:45:10Z', 'channelId': 'UCy5YRlHRDW3y-N5aIzABo9Q', 'title': 'NGTV - AlterNative English - Vol. 0 | JIN AKANISHI &amp; JIMMY MARTIN &amp; JULIAN CIHI', 'description': '［NGTV - AlterNative English - Vol. 0］ JIN AKANISHI & JIMMY MARTIN & JULIAN CIHI 「N/A」YouTube Channel https://www.youtube.com/c/NAOfficialChannel ...', 'thumbnails': {'default': {'url': 'https://i.ytimg.com/vi/-UgQ04fec1k/default.jpg', 'width': 120, 'height': 90}, 'medium': {'url': 'https://i.ytimg.com/vi/-UgQ04fec1k/mqdefault.jpg', 'width': 320, 'height': 180}, 'high': {'url': 'https://i.ytimg.com/vi/-UgQ04fec1k/hqdefault.jpg', 'width': 480, 'height': 360}}, 'channelTitle': 'NO GOOD TV', 'liveBroadcastContent': 'none', 'publishTime': '2020-05-31T08:45:10Z'}}\n",
            "{'kind': 'youtube#searchResult', 'etag': 'EY0P_ocmKd6k-Csm-MSsIbeyWjs', 'id': {'kind': 'youtube#playlist', 'playlistId': 'PLXaJSSVFwepUI6bhcipG1Cmntq13_eWTw'}, 'snippet': {'publishedAt': '2020-05-31T08:45:01Z', 'channelId': 'UCy5YRlHRDW3y-N5aIzABo9Q', 'title': 'AlterNative English', 'description': '', 'thumbnails': {'default': {'url': 'https://i.ytimg.com/vi/-UgQ04fec1k/default.jpg', 'width': 120, 'height': 90}, 'medium': {'url': 'https://i.ytimg.com/vi/-UgQ04fec1k/mqdefault.jpg', 'width': 320, 'height': 180}, 'high': {'url': 'https://i.ytimg.com/vi/-UgQ04fec1k/hqdefault.jpg', 'width': 480, 'height': 360}}, 'channelTitle': 'NO GOOD TV', 'liveBroadcastContent': 'none', 'publishTime': '2020-05-31T08:45:01Z'}}\n",
            "{'kind': 'youtube#searchResult', 'etag': 'UvolsV4zIqsC028et0h8d7ui-uc', 'id': {'kind': 'youtube#video', 'videoId': 'LR90n4M9X3U'}, 'snippet': {'publishedAt': '2020-05-24T09:00:18Z', 'channelId': 'UCy5YRlHRDW3y-N5aIzABo9Q', 'title': 'NO GOOD TV - I Wish We Were Here (Produced by RYO NISHIKIDO)', 'description': 'NO GOOD TV - I Wish We Were Here 「N/A」YouTube Channel https://www.youtube.com/c/NAOfficialChannel 「RYO NISHIKIDO」YouTube Channel ...', 'thumbnails': {'default': {'url': 'https://i.ytimg.com/vi/LR90n4M9X3U/default.jpg', 'width': 120, 'height': 90}, 'medium': {'url': 'https://i.ytimg.com/vi/LR90n4M9X3U/mqdefault.jpg', 'width': 320, 'height': 180}, 'high': {'url': 'https://i.ytimg.com/vi/LR90n4M9X3U/hqdefault.jpg', 'width': 480, 'height': 360}}, 'channelTitle': 'NO GOOD TV', 'liveBroadcastContent': 'none', 'publishTime': '2020-05-24T09:00:18Z'}}\n",
            "{'kind': 'youtube#searchResult', 'etag': 'slwpimzTubPboSv4Fo0FqB_sB_Y', 'id': {'kind': 'youtube#video', 'videoId': 'e1SsNYzOuho'}, 'snippet': {'publishedAt': '2020-05-22T08:43:16Z', 'channelId': 'UCy5YRlHRDW3y-N5aIzABo9Q', 'title': 'NO GOOD TV - Vol. 11 | RYO NISHIKIDO &amp; JIN AKANISHI', 'description': '［NO GOOD TV - Vol. 11］ RYO NISHIKIDO & JIN AKANISHI 「N/A」YouTube Channel https://www.youtube.com/c/NAOfficialChannel 「RYO NISHIKIDO」YouTube ...', 'thumbnails': {'default': {'url': 'https://i.ytimg.com/vi/e1SsNYzOuho/default.jpg', 'width': 120, 'height': 90}, 'medium': {'url': 'https://i.ytimg.com/vi/e1SsNYzOuho/mqdefault.jpg', 'width': 320, 'height': 180}, 'high': {'url': 'https://i.ytimg.com/vi/e1SsNYzOuho/hqdefault.jpg', 'width': 480, 'height': 360}}, 'channelTitle': 'NO GOOD TV', 'liveBroadcastContent': 'none', 'publishTime': '2020-05-22T08:43:16Z'}}\n",
            "{'kind': 'youtube#searchResult', 'etag': 'EnvFygkyC5NK0ZfUPWTzIcpq0t0', 'id': {'kind': 'youtube#video', 'videoId': '4gsOHIkkqeo'}, 'snippet': {'publishedAt': '2020-05-19T09:00:23Z', 'channelId': 'UCy5YRlHRDW3y-N5aIzABo9Q', 'title': 'NO GOOD TV - Vol. 10 | RYO NISHIKIDO &amp; JIN AKANISHI &amp; TAKAYUKI YAMADA &amp; SHINGO FUJIMORI', 'description': '［NO GOOD TV - Vol. 10］ RYO NISHIKIDO & JIN AKANISHI & TAKAYUKI YAMADA & SHINGO FUJIMORI 「N/A」YouTube Channel ...', 'thumbnails': {'default': {'url': 'https://i.ytimg.com/vi/4gsOHIkkqeo/default.jpg', 'width': 120, 'height': 90}, 'medium': {'url': 'https://i.ytimg.com/vi/4gsOHIkkqeo/mqdefault.jpg', 'width': 320, 'height': 180}, 'high': {'url': 'https://i.ytimg.com/vi/4gsOHIkkqeo/hqdefault.jpg', 'width': 480, 'height': 360}}, 'channelTitle': 'NO GOOD TV', 'liveBroadcastContent': 'none', 'publishTime': '2020-05-19T09:00:23Z'}}\n",
            "{'kind': 'youtube#searchResult', 'etag': 'cQpknrOfqFxFRo7GuBPYVaNUtrk', 'id': {'kind': 'youtube#video', 'videoId': 'bhmDKTHiYrU'}, 'snippet': {'publishedAt': '2020-05-17T11:00:15Z', 'channelId': 'UCy5YRlHRDW3y-N5aIzABo9Q', 'title': 'NO GOOD TV - Vol. 9 | RYO NISHIKIDO &amp; JIN AKANISHI &amp; TAKAYUKI YAMADA &amp; SHINGO FUJIMORI', 'description': '［NO GOOD TV - Vol. 9］ RYO NISHIKIDO & JIN AKANISHI & TAKAYUKI YAMADA & SHINGO FUJIMORI 「N/A」YouTube Channel ...', 'thumbnails': {'default': {'url': 'https://i.ytimg.com/vi/bhmDKTHiYrU/default.jpg', 'width': 120, 'height': 90}, 'medium': {'url': 'https://i.ytimg.com/vi/bhmDKTHiYrU/mqdefault.jpg', 'width': 320, 'height': 180}, 'high': {'url': 'https://i.ytimg.com/vi/bhmDKTHiYrU/hqdefault.jpg', 'width': 480, 'height': 360}}, 'channelTitle': 'NO GOOD TV', 'liveBroadcastContent': 'none', 'publishTime': '2020-05-17T11:00:15Z'}}\n"
          ],
          "name": "stdout"
        }
      ]
    },
    {
      "cell_type": "code",
      "metadata": {
        "id": "vODG7ohTSV6Z"
      },
      "source": [
        ""
      ],
      "execution_count": 126,
      "outputs": []
    },
    {
      "cell_type": "markdown",
      "metadata": {
        "id": "NjK5z6htlafl"
      },
      "source": [
        "## 動画の検索結果"
      ]
    },
    {
      "cell_type": "code",
      "metadata": {
        "colab": {
          "base_uri": "https://localhost:8080/"
        },
        "id": "FreNPF9qVazW",
        "outputId": "815b4cd8-6409-4943-db27-8c6e23dfef1d"
      },
      "source": [
        "search_word=\"NO GOOD TV\"\n",
        "list_search_result=youtube_search_list(search_word)\n",
        "for search_result in list_search_result:\n",
        "    #動画のタイトル\n",
        "    print(search_result['snippet'])\n",
        "    #動画のID\n",
        "    video_id=search_result['id']['videoId']\n",
        "\n",
        "    #動画の詳細情報\n",
        "    dic_video_detail = youtube_video_detail(video_id)\n",
        "    print(dic_video_detail['statistics'])"
      ],
      "execution_count": 126,
      "outputs": [
        {
          "output_type": "stream",
          "text": [
            "{'publishedAt': '2018-12-11T06:58:27Z', 'channelId': 'UCAwIKJ84zBsiuuy9DVR13mA', 'title': 'Chiku Says &quot;NO&quot; - Good Habits Bedtime Stories &amp; Moral Stories for Kids - ChuChu TV', 'description': 'Chiku Says \"NO\" - Good Habits Bedtime Stories & Moral Stories for Kids - ChuChu TV =============================================== Video: ...', 'thumbnails': {'default': {'url': 'https://i.ytimg.com/vi/aFad3hWO1LY/default.jpg', 'width': 120, 'height': 90}, 'medium': {'url': 'https://i.ytimg.com/vi/aFad3hWO1LY/mqdefault.jpg', 'width': 320, 'height': 180}, 'high': {'url': 'https://i.ytimg.com/vi/aFad3hWO1LY/hqdefault.jpg', 'width': 480, 'height': 360}}, 'channelTitle': 'ChuChuTV Bedtime Stories & Moral Stories for Kids', 'liveBroadcastContent': 'none', 'publishTime': '2018-12-11T06:58:27Z'}\n",
            "{'viewCount': '9850249', 'likeCount': '18413', 'dislikeCount': '5975', 'favoriteCount': '0', 'commentCount': '112'}\n",
            "{'publishedAt': '2020-04-24T09:59:56Z', 'channelId': 'UCy5YRlHRDW3y-N5aIzABo9Q', 'title': 'NO GOOD TV - Vol. 4 | RYO NISHIKIDO &amp; JIN AKANISHI &amp; SHUN OGURI &amp; TAKAYUKI YAMADA', 'description': '［NO GOOD TV - Vol. 4］ RYO NISHIKIDO & JIN AKANISHI & SHUN OGURI & TAKAYUKI YAMADA 「N/A」YouTube Channel ...', 'thumbnails': {'default': {'url': 'https://i.ytimg.com/vi/KbKTy5jyFgg/default.jpg', 'width': 120, 'height': 90}, 'medium': {'url': 'https://i.ytimg.com/vi/KbKTy5jyFgg/mqdefault.jpg', 'width': 320, 'height': 180}, 'high': {'url': 'https://i.ytimg.com/vi/KbKTy5jyFgg/hqdefault.jpg', 'width': 480, 'height': 360}}, 'channelTitle': 'NO GOOD TV', 'liveBroadcastContent': 'none', 'publishTime': '2020-04-24T09:59:56Z'}\n",
            "{'viewCount': '4339780', 'likeCount': '80532', 'dislikeCount': '1394', 'favoriteCount': '0', 'commentCount': '4152'}\n",
            "{'publishedAt': '2020-04-26T07:00:12Z', 'channelId': 'UCy5YRlHRDW3y-N5aIzABo9Q', 'title': 'NO GOOD TV - Vol. 5 | RYO NISHIKIDO &amp; JIN AKANISHI &amp; SHUN OGURI &amp; TAKAYUKI YAMADA', 'description': '［NO GOOD TV - Vol. 5］ RYO NISHIKIDO & JIN AKANISHI & SHUN OGURI & TAKAYUKI YAMADA 「N/A」YouTube Channel ...', 'thumbnails': {'default': {'url': 'https://i.ytimg.com/vi/o7sPPZlzymk/default.jpg', 'width': 120, 'height': 90}, 'medium': {'url': 'https://i.ytimg.com/vi/o7sPPZlzymk/mqdefault.jpg', 'width': 320, 'height': 180}, 'high': {'url': 'https://i.ytimg.com/vi/o7sPPZlzymk/hqdefault.jpg', 'width': 480, 'height': 360}}, 'channelTitle': 'NO GOOD TV', 'liveBroadcastContent': 'none', 'publishTime': '2020-04-26T07:00:12Z'}\n",
            "{'viewCount': '2471106', 'likeCount': '45693', 'dislikeCount': '680', 'favoriteCount': '0', 'commentCount': '2778'}\n",
            "{'publishedAt': '2020-05-12T09:00:08Z', 'channelId': 'UCy5YRlHRDW3y-N5aIzABo9Q', 'title': 'NGTV | GAME Vol. 1 - WEREWOLF/人狼 | RYO NISHIKIDO &amp; JIN AKANISHI &amp; SHUN OGURI &amp; TAKAYUKI YAMADA', 'description': 'NGTV | GAME Vol. 1 - WEREWOLF/人狼 ］ RYO NISHIKIDO & JIN AKANISHI & SHUN OGURI & TAKAYUKI YAMADA 「N/A」YouTube Channel ...', 'thumbnails': {'default': {'url': 'https://i.ytimg.com/vi/RM8wwBMN53o/default.jpg', 'width': 120, 'height': 90}, 'medium': {'url': 'https://i.ytimg.com/vi/RM8wwBMN53o/mqdefault.jpg', 'width': 320, 'height': 180}, 'high': {'url': 'https://i.ytimg.com/vi/RM8wwBMN53o/hqdefault.jpg', 'width': 480, 'height': 360}}, 'channelTitle': 'NO GOOD TV', 'liveBroadcastContent': 'none', 'publishTime': '2020-05-12T09:00:08Z'}\n",
            "{'viewCount': '2327896', 'likeCount': '30108', 'dislikeCount': '655', 'favoriteCount': '0', 'commentCount': '1837'}\n",
            "{'publishedAt': '2020-06-23T09:06:06Z', 'channelId': 'UCy5YRlHRDW3y-N5aIzABo9Q', 'title': 'NGTV | GAME Vol. 2 - WEREWOLF/人狼 | RYO NISHIKIDO &amp; JIN AKANISHI &amp; TAKERU SATOH &amp; TAKAYUKI YAMADA', 'description': 'NGTV | GAME Vol. 2 - WEREWOLF/人狼 ］ RYO NISHIKIDO & JIN AKANISHI & TAKERU SATOH & TAKAYUKI YAMADA 「N/A」YouTube Channel ...', 'thumbnails': {'default': {'url': 'https://i.ytimg.com/vi/ea45slxxn7I/default.jpg', 'width': 120, 'height': 90}, 'medium': {'url': 'https://i.ytimg.com/vi/ea45slxxn7I/mqdefault.jpg', 'width': 320, 'height': 180}, 'high': {'url': 'https://i.ytimg.com/vi/ea45slxxn7I/hqdefault.jpg', 'width': 480, 'height': 360}}, 'channelTitle': 'NO GOOD TV', 'liveBroadcastContent': 'none', 'publishTime': '2020-06-23T09:06:06Z'}\n",
            "{'viewCount': '2005413', 'likeCount': '29812', 'dislikeCount': '786', 'favoriteCount': '0', 'commentCount': '1448'}\n"
          ],
          "name": "stdout"
        }
      ]
    },
    {
      "cell_type": "code",
      "metadata": {
        "id": "gMkK7dwZeMoo"
      },
      "source": [
        ""
      ],
      "execution_count": null,
      "outputs": []
    }
  ]
}