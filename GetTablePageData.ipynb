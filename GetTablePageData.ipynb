{
  "nbformat": 4,
  "nbformat_minor": 0,
  "metadata": {
    "colab": {
      "name": "GetTablePageData.ipynb",
      "provenance": [],
      "authorship_tag": "ABX9TyPiUnQN2X/W1RGH/siaubaJ",
      "include_colab_link": true
    },
    "kernelspec": {
      "name": "python3",
      "display_name": "Python 3"
    }
  },
  "cells": [
    {
      "cell_type": "markdown",
      "metadata": {
        "id": "view-in-github",
        "colab_type": "text"
      },
      "source": [
        "<a href=\"https://colab.research.google.com/github/TokusimaHonda/google_colaboratory/blob/master/GetTablePageData.ipynb\" target=\"_parent\"><img src=\"https://colab.research.google.com/assets/colab-badge.svg\" alt=\"Open In Colab\"/></a>"
      ]
    },
    {
      "cell_type": "code",
      "metadata": {
        "id": "_qgYYRpeSXzo",
        "colab_type": "code",
        "colab": {}
      },
      "source": [
        "import pandas as pd\n",
        "from google.colab import drive"
      ],
      "execution_count": null,
      "outputs": []
    },
    {
      "cell_type": "code",
      "metadata": {
        "id": "6yvaWpsUSkD7",
        "colab_type": "code",
        "colab": {}
      },
      "source": [
        "df_merge = pd.DataFrame()\n",
        "\n",
        "for page_no in range(1,44):\n",
        "  url = 'http://www4.pref.fukushima.jp/maker/search/list.php?page=' + str(page_no)\n",
        "  print(url)\n",
        "  dfs = pd.read_html(url)\n",
        "  df_com = pd.DataFrame(dfs[1])\n",
        "  df_merge=pd.concat([df_merge, df_com])\n",
        "\n",
        "drive.mount('./gdrive')\n",
        "google_drive_save_dir = \"./gdrive/My Drive/Colab Notebooks/\"\n",
        "df_merge.to_csv(google_drive_save_dir + \"会社.csv\", encoding='utf_8_sig')\n"
      ],
      "execution_count": null,
      "outputs": []
    },
    {
      "cell_type": "code",
      "metadata": {
        "id": "TynGM7Hw_wMh",
        "colab_type": "code",
        "colab": {}
      },
      "source": [
        ""
      ],
      "execution_count": null,
      "outputs": []
    }
  ]
}