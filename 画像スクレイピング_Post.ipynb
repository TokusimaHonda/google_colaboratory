{
  "nbformat": 4,
  "nbformat_minor": 0,
  "metadata": {
    "colab": {
      "name": "画像スクレイピング_Post.ipynb のコピー",
      "provenance": [],
      "collapsed_sections": [],
      "include_colab_link": true
    },
    "kernelspec": {
      "name": "python3",
      "display_name": "Python 3"
    }
  },
  "cells": [
    {
      "cell_type": "markdown",
      "metadata": {
        "id": "view-in-github",
        "colab_type": "text"
      },
      "source": [
        "<a href=\"https://colab.research.google.com/github/TokusimaHonda/google_colaboratory/blob/master/%E7%94%BB%E5%83%8F%E3%82%B9%E3%82%AF%E3%83%AC%E3%82%A4%E3%83%94%E3%83%B3%E3%82%B0_Post.ipynb\" target=\"_parent\"><img src=\"https://colab.research.google.com/assets/colab-badge.svg\" alt=\"Open In Colab\"/></a>"
      ]
    },
    {
      "cell_type": "code",
      "metadata": {
        "id": "qzfdruESt0m5",
        "colab_type": "code",
        "colab": {}
      },
      "source": [
        "from bs4 import BeautifulSoup\n",
        "import urllib.request, urllib.error, urllib.parse\n",
        "import requests\n",
        "import os\n",
        "from google.colab import drive\n",
        "\n",
        "import json"
      ],
      "execution_count": null,
      "outputs": []
    },
    {
      "cell_type": "markdown",
      "metadata": {
        "id": "CGUIuUDBAubd",
        "colab_type": "text"
      },
      "source": [
        "## 検索ワード指定"
      ]
    },
    {
      "cell_type": "code",
      "metadata": {
        "id": "8FqbutZPt3Hq",
        "colab_type": "code",
        "colab": {}
      },
      "source": [
        "search_word = '検索したい画像'\n",
        "max_page = 1 # ページ数（20枚/ページ）"
      ],
      "execution_count": null,
      "outputs": []
    },
    {
      "cell_type": "markdown",
      "metadata": {
        "id": "6JEUXCnEEl6q",
        "colab_type": "text"
      },
      "source": [
        "## Googleドライブマウント設定関数"
      ]
    },
    {
      "cell_type": "code",
      "metadata": {
        "id": "kARcL7K6ufVG",
        "colab_type": "code",
        "colab": {}
      },
      "source": [
        "#Googleドライブマウントして、フォルダ作成\n",
        "def google_drive_mount(save_dir_path):\n",
        "  drive.mount('./gdrive')\n",
        "  # ディレクトリが存在しない場合は新規作成\n",
        "  os.makedirs(save_dir_path, exist_ok=True)"
      ],
      "execution_count": null,
      "outputs": []
    },
    {
      "cell_type": "markdown",
      "metadata": {
        "id": "r1lRmXXAEhbU",
        "colab_type": "text"
      },
      "source": [
        "## 画像ダウンロード用関数"
      ]
    },
    {
      "cell_type": "code",
      "metadata": {
        "id": "YqHLyexT83IX",
        "colab_type": "code",
        "colab": {}
      },
      "source": [
        "def download_image(url, file_path):\n",
        "  r = requests.get(url, stream=True)\n",
        "\n",
        "  if r.status_code == 200:\n",
        "    with open(file_path, \"wb\") as f:\n",
        "      f.write(r.content)"
      ],
      "execution_count": null,
      "outputs": []
    },
    {
      "cell_type": "markdown",
      "metadata": {
        "id": "q3oeUCsqCz-S",
        "colab_type": "text"
      },
      "source": [
        "## 画像line投稿関数"
      ]
    },
    {
      "cell_type": "code",
      "metadata": {
        "id": "90jao8TTCyfb",
        "colab_type": "code",
        "colab": {}
      },
      "source": [
        "def chat_post_image(yahoo_url, file_path,chat_type):\n",
        "  \n",
        "\n",
        "  #Yahoo画像取得\n",
        "  requests_yahoo = requests.get(yahoo_url, stream=True)\n",
        "\n",
        "  if requests_yahoo.status_code == 200:\n",
        "\n",
        "    if chat_type == \"line\":\n",
        "      #画像を保存\n",
        "      with open(file_path, \"wb\") as f:\n",
        "        f.write(requests_yahoo.content)\n",
        "\n",
        "      #lineトークン設定\n",
        "      line_url = \"https://notify-api.line.me/api/notify\"\n",
        "      access_token = 'line_token'\n",
        "      headers = {'Authorization': 'Bearer ' + access_token}\n",
        "      payload = {'message': file_path}\n",
        "\n",
        "      #画像をLineに投稿\n",
        "      files = {'imageFile': open(file_path, 'rb')}\n",
        "      requests_line = requests.post(line_url, headers=headers, params=payload, files=files,)\n",
        "      \n",
        "      #画像を保存したくない場合はコメントアウトする\n",
        "      os.remove(file_path)\n",
        "\n",
        "    elif chat_type == \"slack\":\n",
        "      #slackurl設定\n",
        "      slack_url = \"slack_url\"\n",
        "      post_json = {\n",
        "            \"text\": \"テキスト\",\n",
        "            \"attachments\": [{\n",
        "                \"fields\": [\n",
        "                  {\n",
        "                        \"title\": \"タイトル\",\n",
        "                        \"value\": \"説明\",\n",
        "                  }],\n",
        "            \"image_url\": yahoo_url\n",
        "            }]\n",
        "      }\n",
        "      print(yahoo_url)\n",
        "      requests_slack = requests.post(slack_url, data = json.dumps(post_json))\n",
        "  \n",
        "\n",
        "\n"
      ],
      "execution_count": null,
      "outputs": []
    },
    {
      "cell_type": "code",
      "metadata": {
        "id": "yGmdf4oKCyrx",
        "colab_type": "code",
        "colab": {}
      },
      "source": [
        ""
      ],
      "execution_count": null,
      "outputs": []
    },
    {
      "cell_type": "markdown",
      "metadata": {
        "id": "C6SFvDhsFwvT",
        "colab_type": "text"
      },
      "source": [
        "## Yahoo画像検索スクレイピング関数"
      ]
    },
    {
      "cell_type": "code",
      "metadata": {
        "id": "Asu4KDrDuSlg",
        "colab_type": "code",
        "colab": {}
      },
      "source": [
        "def download_yahoo_search_image(keyword,chat_name):\n",
        "  img_cnt = 1\n",
        "  download_cnt = 1\n",
        "  for i in range(max_page):\n",
        "    #検索文字列をエンコードして、Yahoo画像検索用URL作成\n",
        "    url = 'https://search.yahoo.co.jp/image/search?p={}&ei=UTF-8&b={}'.format(urllib.parse.quote(keyword), img_cnt)\n",
        "\n",
        "    #Yahoo画像検索ページを開き、要素取得\n",
        "    req = requests.get(url)\n",
        "    soup = BeautifulSoup(req.text, features=\"html.parser\")\n",
        "    \n",
        "    #画像検索結果のimgタグを取得\n",
        "    div = soup.find('div', id='gridlist')\n",
        "    img_tags = div.find_all('img')\n",
        "    \n",
        "    for img_tag in img_tags:\n",
        "      #画像URLのみを取得\n",
        "      img_url = img_tag.get(\"src\")\n",
        "      #print(img_url)\n",
        "      #ファイル名・保存先パスを作成\n",
        "      file_name = str(download_cnt) + '_' + '.jpg'\n",
        "      image_path = os.path.join(google_drive_save_dir, file_name)\n",
        "      \n",
        "      #画像を保存\n",
        "      #download_image(url=img_url, file_path=image_path)\n",
        "      chat_post_image(yahoo_url=img_url, file_path=image_path,chat_type=chat_name)\n",
        "      download_cnt += 1\n",
        "    \n",
        "    #次のページ\n",
        "    img_cnt += 20    \n",
        "    "
      ],
      "execution_count": null,
      "outputs": []
    },
    {
      "cell_type": "markdown",
      "metadata": {
        "id": "psy7DkqUG916",
        "colab_type": "text"
      },
      "source": [
        "## スクレイピング処理"
      ]
    },
    {
      "cell_type": "code",
      "metadata": {
        "id": "lIAyXZYdHAA6",
        "colab_type": "code",
        "colab": {}
      },
      "source": [
        "#Googleドライブ保存フォルダ作成\n",
        "google_drive_save_dir = \"./gdrive/My Drive/Colab Notebooks/{}\".format(search_word)\n",
        "google_drive_mount(google_drive_save_dir)\n",
        "download_yahoo_search_image(search_word,'slack')\n"
      ],
      "execution_count": null,
      "outputs": []
    },
    {
      "cell_type": "code",
      "metadata": {
        "id": "vVlInDu9HrmB",
        "colab_type": "code",
        "colab": {}
      },
      "source": [
        ""
      ],
      "execution_count": null,
      "outputs": []
    }
  ]
}